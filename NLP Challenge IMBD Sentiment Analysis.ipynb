{
 "cells": [
  {
   "cell_type": "markdown",
   "id": "18da2746",
   "metadata": {},
   "source": [
    "### IMDB Dataset of 50K Movie Reviews to perform Sentiment analysis\n",
    "\n",
    "### Specific Objective: Test and train various models to classify sentiment as either positive or negative for a given movie review"
   ]
  },
  {
   "cell_type": "markdown",
   "id": "83a647d9",
   "metadata": {},
   "source": [
    "To accomplish our objective, I will test out various models that are generally used for binary classification problems and compare the initial performance. I will attempt to improve each of the models and ultimately select the model that does best after this for further optimiztaion.\n",
    "\n",
    "I chose 3 models for this task, one from each bucket of “complexity”. While there are many other models suitable for binary classification, in my experience it’s best to start with a few and then add more if the accuracy is not there. In this case, since the task is relatively straightforward, I decided to try 3, but pick them based on how complex and explainable they are. The simplest model was Logistic Regression. Logistic Regression is one of the simplest classifiers and it’s decisions can be easily interpreted and understood, an important aspect in some projects when you not only need to get the model to work but also be able to explain it’s inner-workings to stakeholders such as managers and clients.  The second model I chose was Gradient Boosted Trees via XGBoost, which falls into a medium complexity bucket. XGBoost is a well-established and effective algorithm that uses gradient boosting frameworks. It's particularly useful due to its flexibility and high performance, especially with datasets where relationships may not be linear, a possible scenario in our case. It's more complex than Logistic Regression, but it provides a good balance between performance and interpretability. You can visualize the trees and feature importances, helping to understand which features are driving predictions.\n",
    "\n",
    "Lastly, I picked a Sequential Neural Network, the most complex model out of the three. Neural networks are a form of deep learning and are exceptionally effective at learning from unstructured data, such as text data in our IMDB dataset. They can model intricate patterns and nonlinear relationships, which can lead to higher accuracy. However, the trade-off is that they are often referred to as \"black boxes\" due to their lack of interpretability. Understanding the inner workings of a deep neural network is challenging, which might not always be suitable, especially in scenarios where model explain ability is crucial. But in cases where the highest accuracy is the main goal, neural networks often come out on top.\n",
    "\n",
    "The goal of choosing these three models was to explore the trade-off between model complexity, performance, and interpretability, giving us a broader understanding of what can be achieved with different approaches for this binary classification task on the IMDB dataset.\n"
   ]
  },
  {
   "cell_type": "markdown",
   "id": "cad03aa5",
   "metadata": {},
   "source": [
    "<b>Model Descriptions:</b>\n",
    "- <b>Logistic Regression:</b> Logistic Regression is a linear model that is widely used for binary classification. It is simple to implement, computationally efficient, and easy to interpret. It models the probability of the target class using a sigmoid function. <br>\n",
    "- <b>Gradient Boosted Trees:</b> Gradient Boosted Trees (GBTs) are also an ensemble learning method that combines multiple decision trees. However, unlike random forests, GBTs add trees sequentially, with each tree correcting the errors of the previous one. <br>\n",
    "- <b>Neural Networks:</b> Neural networks are a powerful class of models that can learn complex non-linear relationships between features. They have shown state-of-the-art performance on many classification tasks in recent years.<br>\n",
    "    \n",
    "I will implement 3 of these models: Logistic Regression, Gradient Boosted Tree, and a Neural Net and compare the performance"
   ]
  },
  {
   "cell_type": "markdown",
   "id": "f1080533",
   "metadata": {},
   "source": [
    "<b>Data Prep</b><br>\n",
    "- TD-IDF vectorization with SelectKBest algorithm to select the most important features\n",
    "- Applied arbitrary selection of 2k best features out of 743k features (~2.7%) using SelectKBest feature selection algorithm\n",
    "- Reasons for reducing number of features:\n",
    "    - Dimensionality reduction: By selecting a subset of the most informative features, we can reduce the dimensionality of the data and potentially improve computational efficiency, reduce memory requirements, and try to alleviate the \"curse of dimensionality\".\n",
    "    - Noise reduction: If a large proportion of the features are noisy, redundant, or uninformative, selecting the top features can help filter out the noise and improve the model's ability to learn relevant patterns and make accurate predictions.\n",
    "    - Improved interpretability: Working with a smaller subset of features can enhance model interpretability by focusing on the most important factors influencing the task."
   ]
  },
  {
   "cell_type": "markdown",
   "id": "016f014a",
   "metadata": {},
   "source": [
    "<b>NOTE:</b> Before running this notebook, make sure you:\n",
    "- Download the IMDB Dataset to the working directory. You can download the dataset here: https://www.kaggle.com/datasets/lakshmi25npathi/imdb-dataset-of-50k-movie-reviews\n",
    "- Download the pre-trained word embeddings using the code below"
   ]
  },
  {
   "cell_type": "raw",
   "id": "2b490245",
   "metadata": {},
   "source": [
    "# code for downloading pre-trained word embeddings\n",
    "import urllib.request\n",
    "import os\n",
    "url = 'http://nlp.stanford.edu/data/glove.6B.zip'\n",
    "filename = 'glove.6B.zip'\n",
    "if not os.path.exists(filename):\n",
    "urllib.request.urlretrieve(url, filename)\n",
    "Extract the contents of the zip file\n",
    "import zipfile\n",
    "with zipfile.ZipFile(filename, 'r') as zip_ref:\n",
    "zip_ref.extractall() -->"
   ]
  },
  {
   "cell_type": "code",
   "execution_count": 1,
   "id": "a700d841",
   "metadata": {},
   "outputs": [],
   "source": [
    "# Notebook-level Imports\n",
    "import pandas as pd\n",
    "import matplotlib.pyplot as plt\n",
    "import numpy as np\n",
    "import pickle\n",
    "# Set default font size\n",
    "plt.rcParams.update({'font.size': 20})"
   ]
  },
  {
   "cell_type": "code",
   "execution_count": 17,
   "id": "9750c2de",
   "metadata": {},
   "outputs": [],
   "source": [
    "# utility function to extract the saved model\n",
    "import os\n",
    "import typing as T\n",
    "import pickle\n",
    "from tensorflow import keras\n",
    "\n",
    "def load_model(path: str) -> T.Any:\n",
    "    \"\"\"Unpickles an object at the given path\"\"\"\n",
    "    with open(path, 'rb') as file:\n",
    "        loaded_model = pickle.load(file)\n",
    "    return loaded_model\n",
    "\n",
    "def save_model(filename: str, model: T.Any):\n",
    "    \"\"\"Serializes model and saves as a file\"\"\"\n",
    "    # store the model parameters in a file\n",
    "    with open(filename, 'wb') as file:\n",
    "        pickle.dump(model, file)"
   ]
  },
  {
   "cell_type": "code",
   "execution_count": 4,
   "id": "c4bbcfad",
   "metadata": {},
   "outputs": [
    {
     "data": {
      "text/html": [
       "<div>\n",
       "<style scoped>\n",
       "    .dataframe tbody tr th:only-of-type {\n",
       "        vertical-align: middle;\n",
       "    }\n",
       "\n",
       "    .dataframe tbody tr th {\n",
       "        vertical-align: top;\n",
       "    }\n",
       "\n",
       "    .dataframe thead th {\n",
       "        text-align: right;\n",
       "    }\n",
       "</style>\n",
       "<table border=\"1\" class=\"dataframe\">\n",
       "  <thead>\n",
       "    <tr style=\"text-align: right;\">\n",
       "      <th></th>\n",
       "      <th>review</th>\n",
       "      <th>sentiment</th>\n",
       "    </tr>\n",
       "  </thead>\n",
       "  <tbody>\n",
       "    <tr>\n",
       "      <th>0</th>\n",
       "      <td>One of the other reviewers has mentioned that ...</td>\n",
       "      <td>positive</td>\n",
       "    </tr>\n",
       "    <tr>\n",
       "      <th>1</th>\n",
       "      <td>A wonderful little production. &lt;br /&gt;&lt;br /&gt;The...</td>\n",
       "      <td>positive</td>\n",
       "    </tr>\n",
       "    <tr>\n",
       "      <th>2</th>\n",
       "      <td>I thought this was a wonderful way to spend ti...</td>\n",
       "      <td>positive</td>\n",
       "    </tr>\n",
       "    <tr>\n",
       "      <th>3</th>\n",
       "      <td>Basically there's a family where a little boy ...</td>\n",
       "      <td>negative</td>\n",
       "    </tr>\n",
       "    <tr>\n",
       "      <th>4</th>\n",
       "      <td>Petter Mattei's \"Love in the Time of Money\" is...</td>\n",
       "      <td>positive</td>\n",
       "    </tr>\n",
       "    <tr>\n",
       "      <th>...</th>\n",
       "      <td>...</td>\n",
       "      <td>...</td>\n",
       "    </tr>\n",
       "    <tr>\n",
       "      <th>49995</th>\n",
       "      <td>I thought this movie did a down right good job...</td>\n",
       "      <td>positive</td>\n",
       "    </tr>\n",
       "    <tr>\n",
       "      <th>49996</th>\n",
       "      <td>Bad plot, bad dialogue, bad acting, idiotic di...</td>\n",
       "      <td>negative</td>\n",
       "    </tr>\n",
       "    <tr>\n",
       "      <th>49997</th>\n",
       "      <td>I am a Catholic taught in parochial elementary...</td>\n",
       "      <td>negative</td>\n",
       "    </tr>\n",
       "    <tr>\n",
       "      <th>49998</th>\n",
       "      <td>I'm going to have to disagree with the previou...</td>\n",
       "      <td>negative</td>\n",
       "    </tr>\n",
       "    <tr>\n",
       "      <th>49999</th>\n",
       "      <td>No one expects the Star Trek movies to be high...</td>\n",
       "      <td>negative</td>\n",
       "    </tr>\n",
       "  </tbody>\n",
       "</table>\n",
       "<p>50000 rows × 2 columns</p>\n",
       "</div>"
      ],
      "text/plain": [
       "                                                  review sentiment\n",
       "0      One of the other reviewers has mentioned that ...  positive\n",
       "1      A wonderful little production. <br /><br />The...  positive\n",
       "2      I thought this was a wonderful way to spend ti...  positive\n",
       "3      Basically there's a family where a little boy ...  negative\n",
       "4      Petter Mattei's \"Love in the Time of Money\" is...  positive\n",
       "...                                                  ...       ...\n",
       "49995  I thought this movie did a down right good job...  positive\n",
       "49996  Bad plot, bad dialogue, bad acting, idiotic di...  negative\n",
       "49997  I am a Catholic taught in parochial elementary...  negative\n",
       "49998  I'm going to have to disagree with the previou...  negative\n",
       "49999  No one expects the Star Trek movies to be high...  negative\n",
       "\n",
       "[50000 rows x 2 columns]"
      ]
     },
     "execution_count": 4,
     "metadata": {},
     "output_type": "execute_result"
    }
   ],
   "source": [
    "### Load Data\n",
    "data = pd.read_csv('IMDB Dataset.csv')\n",
    "data"
   ]
  },
  {
   "cell_type": "code",
   "execution_count": 5,
   "id": "80653de3",
   "metadata": {},
   "outputs": [
    {
     "name": "stdout",
     "output_type": "stream",
     "text": [
      "<class 'pandas.core.frame.DataFrame'>\n",
      "RangeIndex: 50000 entries, 0 to 49999\n",
      "Data columns (total 2 columns):\n",
      " #   Column     Non-Null Count  Dtype \n",
      "---  ------     --------------  ----- \n",
      " 0   review     50000 non-null  object\n",
      " 1   sentiment  50000 non-null  object\n",
      "dtypes: object(2)\n",
      "memory usage: 781.4+ KB\n"
     ]
    }
   ],
   "source": [
    "# review the data and apply some pre-processing\n",
    "data.info()"
   ]
  },
  {
   "cell_type": "code",
   "execution_count": 6,
   "id": "5e132519",
   "metadata": {},
   "outputs": [
    {
     "data": {
      "text/plain": [
       "sentiment\n",
       "positive    25000\n",
       "negative    25000\n",
       "Name: count, dtype: int64"
      ]
     },
     "execution_count": 6,
     "metadata": {},
     "output_type": "execute_result"
    }
   ],
   "source": [
    "# Number of poitive and negative reviews - looks like the data is balanced\n",
    "data.sentiment.value_counts()"
   ]
  },
  {
   "cell_type": "code",
   "execution_count": 33,
   "id": "03e5be47",
   "metadata": {},
   "outputs": [
    {
     "data": {
      "text/html": [
       "<div>\n",
       "<style scoped>\n",
       "    .dataframe tbody tr th:only-of-type {\n",
       "        vertical-align: middle;\n",
       "    }\n",
       "\n",
       "    .dataframe tbody tr th {\n",
       "        vertical-align: top;\n",
       "    }\n",
       "\n",
       "    .dataframe thead th {\n",
       "        text-align: right;\n",
       "    }\n",
       "</style>\n",
       "<table border=\"1\" class=\"dataframe\">\n",
       "  <thead>\n",
       "    <tr style=\"text-align: right;\">\n",
       "      <th></th>\n",
       "      <th>review</th>\n",
       "      <th>sentiment</th>\n",
       "    </tr>\n",
       "  </thead>\n",
       "  <tbody>\n",
       "    <tr>\n",
       "      <th>0</th>\n",
       "      <td>One of the other reviewers has mentioned that ...</td>\n",
       "      <td>1</td>\n",
       "    </tr>\n",
       "    <tr>\n",
       "      <th>1</th>\n",
       "      <td>A wonderful little production. &lt;br /&gt;&lt;br /&gt;The...</td>\n",
       "      <td>1</td>\n",
       "    </tr>\n",
       "    <tr>\n",
       "      <th>2</th>\n",
       "      <td>I thought this was a wonderful way to spend ti...</td>\n",
       "      <td>1</td>\n",
       "    </tr>\n",
       "    <tr>\n",
       "      <th>3</th>\n",
       "      <td>Basically there's a family where a little boy ...</td>\n",
       "      <td>0</td>\n",
       "    </tr>\n",
       "    <tr>\n",
       "      <th>4</th>\n",
       "      <td>Petter Mattei's \"Love in the Time of Money\" is...</td>\n",
       "      <td>1</td>\n",
       "    </tr>\n",
       "  </tbody>\n",
       "</table>\n",
       "</div>"
      ],
      "text/plain": [
       "                                              review  sentiment\n",
       "0  One of the other reviewers has mentioned that ...          1\n",
       "1  A wonderful little production. <br /><br />The...          1\n",
       "2  I thought this was a wonderful way to spend ti...          1\n",
       "3  Basically there's a family where a little boy ...          0\n",
       "4  Petter Mattei's \"Love in the Time of Money\" is...          1"
      ]
     },
     "execution_count": 33,
     "metadata": {},
     "output_type": "execute_result"
    }
   ],
   "source": [
    "# transform positive and negative to 0s and 1s for more ease\n",
    "# Lets encode labels: each label is an integer value of either 0 or 1, where 0 is a negative review, and 1 is a positive review.\n",
    "from sklearn import preprocessing\n",
    "label_encoder = preprocessing.LabelEncoder()\n",
    "data['sentiment'] = label_encoder.fit_transform(data['sentiment'])\n",
    "data.head()"
   ]
  },
  {
   "cell_type": "code",
   "execution_count": 34,
   "id": "7a0b193d",
   "metadata": {},
   "outputs": [
    {
     "data": {
      "image/png": "[encoded data removed]",
      "text/plain": [
       "<Figure size 2160x1080 with 1 Axes>"
      ]
     },
     "metadata": {
      "needs_background": "light"
     },
     "output_type": "display_data"
    }
   ],
   "source": [
    "from sklearn.feature_extraction.text import CountVectorizer\n",
    "vectorizer = CountVectorizer()\n",
    "vect_texts = vectorizer.fit_transform(list(data['review']))\n",
    "all_ngrams = vectorizer.get_feature_names_out()\n",
    "num_ngrams = min(50, len(all_ngrams))\n",
    "all_counts = vect_texts.sum(axis=0).tolist()[0]\n",
    "\n",
    "all_ngrams, all_counts = zip(*[(n, c) for c, n in sorted(zip(all_counts, all_ngrams), reverse=True)])\n",
    "ngrams = all_ngrams[:num_ngrams]\n",
    "counts = all_counts[:num_ngrams]\n",
    "\n",
    "idx = np.arange(num_ngrams)\n",
    "\n",
    "# Let's now plot a frequency distribution plot of the most seen words in the corpus.\n",
    "plt.figure(figsize=(30, 15))\n",
    "plt.bar(idx, counts, width=0.8)\n",
    "plt.xlabel('N-grams', fontsize=20)\n",
    "plt.ylabel('Frequencies', fontsize=20)\n",
    "plt.title('Frequency distribution of ngrams')\n",
    "plt.xticks(idx, ngrams, rotation=45, fontsize=20)\n",
    "plt.yticks(fontsize=20)\n",
    "plt.show()"
   ]
  },
  {
   "cell_type": "code",
   "execution_count": 46,
   "id": "c401edd4",
   "metadata": {},
   "outputs": [
    {
     "name": "stderr",
     "output_type": "stream",
     "text": [
      "/Users/richardgoldman/opt/anaconda3/envs/deep_learning_env/lib/python3.10/site-packages/sklearn/feature_extraction/text.py:2072: UserWarning: Only (<class 'numpy.float64'>, <class 'numpy.float32'>, <class 'numpy.float16'>) 'dtype' should be used. int32 'dtype' will be converted to np.float64.\n",
      "  warnings.warn(\n"
     ]
    },
    {
     "name": "stdout",
     "output_type": "stream",
     "text": [
      "Total number of features before feature selection: 743933\n",
      "Total number of features after feature selection: 20000\n"
     ]
    }
   ],
   "source": [
    "# get rid of stop words (i.e. words that occur freequently in all documents and add little signal)\n",
    "from sklearn.feature_extraction.text import TfidfVectorizer\n",
    "from sklearn.feature_selection import SelectKBest\n",
    "from sklearn.feature_selection import f_classif\n",
    "NGRAM_RANGE = (1, 2)\n",
    "TOP_K = 20000\n",
    "TOKEN_MODE = 'word'\n",
    "MIN_DOC_FREQ = 2\n",
    "\n",
    "def ngram_vectorize(texts, labels):\n",
    "    kwargs = {\n",
    "        'ngram_range' : NGRAM_RANGE,\n",
    "        'dtype' : 'int32',\n",
    "        'strip_accents' : 'unicode',\n",
    "        'decode_error' : 'replace',\n",
    "        'analyzer' : TOKEN_MODE,\n",
    "        'min_df' : MIN_DOC_FREQ,\n",
    "    }\n",
    "    # Learn Vocab from train texts and vectorize train and val sets\n",
    "    tfidf_vectorizer = TfidfVectorizer(**kwargs)\n",
    "    transformed_texts = tfidf_vectorizer.fit_transform(texts)\n",
    "    \n",
    "    # Get the total number of features before feature selection\n",
    "    num_features_before_selection = transformed_texts.shape[1]\n",
    "    print(\"Total number of features before feature selection:\", num_features_before_selection)\n",
    "\n",
    "    # Select best k features, with feature importance measured by f_classif\n",
    "    # Set k as 20000 or (if number of ngrams is less) number of ngrams   \n",
    "    selector = SelectKBest(f_classif, k=min(TOP_K, transformed_texts.shape[1]))\n",
    "    selector.fit(transformed_texts, labels)\n",
    "    transformed_texts = selector.transform(transformed_texts).astype('float32')\n",
    "    \n",
    "    # Get the total number of features after feature selection\n",
    "    num_features_after_selection = transformed_texts.shape[1]\n",
    "    print(\"Total number of features after feature selection:\", num_features_after_selection)\n",
    "    \n",
    "    return transformed_texts\n",
    "# Vectorize the data\n",
    "vect_data = ngram_vectorize(data['review'], data['sentiment'])"
   ]
  },
  {
   "cell_type": "code",
   "execution_count": 36,
   "id": "cfa62fad",
   "metadata": {},
   "outputs": [
    {
     "data": {
      "text/plain": [
       "(50000, 20000)"
      ]
     },
     "execution_count": 36,
     "metadata": {},
     "output_type": "execute_result"
    }
   ],
   "source": [
    "# check out the size of our resulting feature vector\n",
    "vect_data.shape"
   ]
  },
  {
   "cell_type": "code",
   "execution_count": 37,
   "id": "bce0a83f",
   "metadata": {},
   "outputs": [
    {
     "data": {
      "text/plain": [
       "(50000, 101895)"
      ]
     },
     "execution_count": 37,
     "metadata": {},
     "output_type": "execute_result"
    }
   ],
   "source": [
    "tfidf = TfidfVectorizer()\n",
    "tr_texts = tfidf.fit_transform(data['review'])\n",
    "tr_texts.shape"
   ]
  },
  {
   "cell_type": "code",
   "execution_count": 38,
   "id": "1709baba",
   "metadata": {},
   "outputs": [
    {
     "name": "stdout",
     "output_type": "stream",
     "text": [
      "Train dataset shape: (40000, 20000), \n",
      "Test dataset shape: (10000, 20000)\n"
     ]
    }
   ],
   "source": [
    "from sklearn.model_selection import train_test_split\n",
    "\n",
    "# Split data to target (y) and features (X)\n",
    "X = vect_data.toarray()\n",
    "y = (np.array(data['sentiment']))\n",
    "\n",
    "# Here we split data to training and testing parts\n",
    "X_train, X_test, y_train, y_test = train_test_split(X, y, test_size=0.2, random_state=13)\n",
    "print(\"Train dataset shape: {0}, \\nTest dataset shape: {1}\".format(X_train.shape, X_test.shape))"
   ]
  },
  {
   "cell_type": "markdown",
   "id": "6f0a5e29",
   "metadata": {},
   "source": [
    "### Logistic Regression"
   ]
  },
  {
   "cell_type": "code",
   "execution_count": 13,
   "id": "21673bdb",
   "metadata": {},
   "outputs": [
    {
     "name": "stdout",
     "output_type": "stream",
     "text": [
      "Training Accuracy: 0.911825\n",
      "Testing Accuracy: 0.8984\n"
     ]
    },
    {
     "data": {
      "image/png": "[encoded data removed]",
      "text/plain": [
       "<Figure size 288x288 with 1 Axes>"
      ]
     },
     "metadata": {
      "needs_background": "light"
     },
     "output_type": "display_data"
    },
    {
     "name": "stdout",
     "output_type": "stream",
     "text": [
      "Precision: 0.8894841269841269\n",
      "Recall: 0.9071226224200728\n",
      "F1 Score:  0.898401792229807\n"
     ]
    }
   ],
   "source": [
    "from sklearn.linear_model import LogisticRegression\n",
    "from sklearn.metrics import classification_report, confusion_matrix\n",
    "import matplotlib.pyplot as plt\n",
    "import seaborn as sns\n",
    "\n",
    "MODEL_SAVE_PATH = 'logreg.pkl'\n",
    "# create a logistic regression model and fit it to the training data\n",
    "try:\n",
    "    logreg = load_model(MODEL_SAVE_PATH)\n",
    "except FileNotFoundError:\n",
    "    print(\"Saved model not found, re-training model\")\n",
    "    logreg = LogisticRegression()\n",
    "    logreg.fit(X_train, y_train)\n",
    "\n",
    "# Evaluate the model on the training data\n",
    "train_score = logreg.score(X_train, y_train)\n",
    "print(f\"Training Accuracy: {train_score}\")\n",
    "\n",
    "# Evaluate the model on the testing data\n",
    "test_score = logreg.score(X_test, y_test)\n",
    "print(f\"Testing Accuracy: {test_score}\")\n",
    "\n",
    "# Predict on test data and get f1-score\n",
    "y_pred = logreg.predict(X_test)\n",
    "classification_report_dict = classification_report(y_test, y_pred, output_dict=True)\n",
    "f1_score = classification_report_dict['weighted avg']['f1-score']\n",
    "\n",
    "# Get confusion matrix\n",
    "cm = confusion_matrix(y_test, y_pred)\n",
    "\n",
    "# Plot confusion matrix\n",
    "plt.figure(figsize=(4, 4))\n",
    "sns.heatmap(cm, annot=True, fmt='d', cmap='Blues', cbar=False)\n",
    "plt.title('Confusion Matrix')\n",
    "plt.xlabel('Predicted')\n",
    "plt.ylabel('Actual')\n",
    "plt.show()\n",
    "\n",
    "# Get precision and recall\n",
    "precision = cm[1, 1] / (cm[0, 1] + cm[1, 1])\n",
    "recall = cm[1, 1] / (cm[1, 0] + cm[1, 1])\n",
    "\n",
    "# Print precision and recall\n",
    "print('Precision:', precision)\n",
    "print('Recall:', recall)\n",
    "print('F1 Score: ', f1_score)\n",
    "\n",
    "# save model\n",
    "# save_model('logreg.pkl', logreg)"
   ]
  },
  {
   "cell_type": "markdown",
   "id": "67d3e2a7",
   "metadata": {},
   "source": [
    "### Gradient Boosted Decision Trees "
   ]
  },
  {
   "cell_type": "code",
   "execution_count": 40,
   "id": "ed93133c",
   "metadata": {},
   "outputs": [
    {
     "name": "stdout",
     "output_type": "stream",
     "text": [
      "Training Accuracy: 0.9387\n",
      "Testing Accuracy: 0.8655\n",
      "Precision: 0.854244632657081\n",
      "Recall: 0.877579927154998\n"
     ]
    }
   ],
   "source": [
    "## XGBoost\n",
    "import pandas as pd\n",
    "import numpy as np\n",
    "import xgboost as xgb\n",
    "from sklearn.metrics import accuracy_score, precision_score, recall_score\n",
    "\n",
    "X_train, X_test, y_train, y_test = train_test_split(X, y, test_size=0.2, random_state=13)\n",
    "\n",
    "try:\n",
    "    xgb_model = load_model('xgb_model.pkl')\n",
    "except FileNotFoundError:\n",
    "    print(\"Saved model not found, re-training model\")\n",
    "    xgb_model = xgb.XGBClassifier(n_jobs=14)\n",
    "    xgb_model.fit(X_train, y_train)\n",
    "\n",
    "# Predict labels for test data\n",
    "y_pred = xgb_model.predict(X_test)\n",
    "\n",
    "# Evaluate model performance on test data\n",
    "accuracy = accuracy_score(y_test, y_pred)\n",
    "precision = precision_score(y_test, y_pred)\n",
    "recall = recall_score(y_test, y_pred)\n",
    "\n",
    "# Predict labels for training data\n",
    "y_train_pred = xgb_model.predict(X_train)\n",
    "\n",
    "# Evaluate model performance on training data\n",
    "accuracy_train = accuracy_score(y_train, y_train_pred)\n",
    "\n",
    "# Print evaluation metrics\n",
    "print('Training Accuracy:', accuracy_train)\n",
    "print('Testing Accuracy:', accuracy)\n",
    "print('Precision:', precision)\n",
    "print('Recall:', recall)\n",
    "\n",
    "# save model\n",
    "save_model('xgboost.pkl', xgb_model)"
   ]
  },
  {
   "cell_type": "markdown",
   "id": "d1804e04",
   "metadata": {},
   "source": [
    "<b>Notes</b><br>The XGBoost model took about an hour to train and it does worse than the simple logistic regression model."
   ]
  },
  {
   "cell_type": "markdown",
   "id": "8e5924de",
   "metadata": {},
   "source": [
    "### Neural Network\n",
    "In order to create the neural net, I needed to decide on an initial answer to the following questions:\n",
    "\n",
    "1. *How many layers to use in the model?*\n",
    "2. *How many hidden units to use for each layer?*\n",
    "3. *Choice of activation function (ReLU, Sigmoid, Tanh, etc.)\n",
    "\n",
    "In this example, the input data consists of an array of word-probabilities. The labels to predict are either 0 or 1. Let's build a model for this problem:"
   ]
  },
  {
   "cell_type": "code",
   "execution_count": 16,
   "id": "13bfe1b3",
   "metadata": {},
   "outputs": [
    {
     "name": "stdout",
     "output_type": "stream",
     "text": [
      "313/313 [==============================] - 1s 2ms/step\n",
      "1250/1250 [==============================] - 2s 2ms/step - loss: 0.0695 - accuracy: 0.9804\n",
      "Train loss: 0.06948278099298477\n",
      "Train accuracy: 0.9804499745368958\n",
      "313/313 [==============================] - 1s 2ms/step - loss: 0.1799 - accuracy: 0.9322\n",
      "Test loss: 0.1798858493566513\n",
      "Test accuracy: 0.932200014591217\n"
     ]
    }
   ],
   "source": [
    "import tensorflow as tf\n",
    "from tensorflow.python.keras import models\n",
    "from tensorflow.python.keras.layers import Dense\n",
    "from tensorflow.python.keras.layers import Dropout\n",
    "from tensorflow import keras\n",
    "from tensorflow.keras.layers import Dense, Dropout\n",
    "    \n",
    "    \n",
    "try:\n",
    "    nnet = load_model('neural_net.pkl')\n",
    "except FileNotFoundError:\n",
    "    print(\"Saved model not found, re-training model\")\n",
    "    DROPOUT_RATE = 0.2\n",
    "    UNITS = 64\n",
    "    NUM_CLASSES = 2\n",
    "    LAYERS = 2\n",
    "    input_shape = X_train.shape[1:]\n",
    "\n",
    "    op_units, op_activation = 1, 'sigmoid'\n",
    "\n",
    "    nnet = keras.Sequential()\n",
    "    # Applies Dropout to the input\n",
    "    nnet.add(Dropout(rate=DROPOUT_RATE, input_shape=input_shape))\n",
    "    for _ in range(LAYERS-1):\n",
    "        nnet.add(Dense(units=UNITS, activation='relu'))\n",
    "        nnet.add(Dropout(rate=DROPOUT_RATE))\n",
    "\n",
    "    nnet.add(Dense(units=op_units, activation=op_activation))\n",
    "\n",
    "    # compile the model\n",
    "    nnet.compile(loss='binary_crossentropy', optimizer='adam', metrics=['accuracy'])\n",
    "\n",
    "    # print model summary\n",
    "    nnet.summary()\n",
    "\n",
    "    EPOCHS = 100\n",
    "    BATCH_SIZE = 128\n",
    "\n",
    "    # Create callback for early stopping on validation loss. If the loss does\n",
    "    # not decrease on two consecutive tries, stop training\n",
    "    callbacks = [tf.keras.callbacks.EarlyStopping(monitor='val_loss', patience=2)]\n",
    "\n",
    "    # Train and validate model\n",
    "    # To start training, call the model.fit method—the model is \"fit\" to the training data.\n",
    "    # Note that fit() will return a History object which we can use to plot training vs. validation accuracy and loss.\n",
    "    history = nnet.fit(X_train, y_train, epochs=EPOCHS, validation_data=(X_test, y_test), verbose=1, batch_size=BATCH_SIZE, callbacks=callbacks)\n",
    "\n",
    "# predict on test data\n",
    "y_pred = nnet.predict(X_test)\n",
    "    \n",
    "# save model\n",
    "# save_model('neural_net.pkl', nnet)\n",
    "\n",
    "# Evaluate the model on the train dataset\n",
    "train_loss, train_acc = nnet.evaluate(X_train, y_train, verbose=1)\n",
    "print('Train loss:', train_loss)\n",
    "print('Train accuracy:', train_acc)\n",
    "\n",
    "# Next, compare how the model performs on the test dataset:\n",
    "test_loss, test_acc = nnet.evaluate(X_test, y_test, verbose=1)\n",
    "print('Test loss:', test_loss)\n",
    "print('Test accuracy:', test_acc)"
   ]
  },
  {
   "cell_type": "markdown",
   "id": "1ab52945",
   "metadata": {},
   "source": [
    "Model Compilation Notes\n",
    "* **Loss function** — Selecting binary crossentropy since this is a binary classification problem\n",
    "* **Optimizer** — Selected Adam since it is well-suited for large datasets like the IMDb dataset and has been shown to work well for a wide range of deep learning tasks, including natural language processing. It combines advantages from AdaGrad and RMSProp which allow it to dynamically adjust the learning rate during training to prevent it from getting stuck in a local miniumum.\n",
    "\n",
    "* **Metrics** — want to look at accuracy, F1 and AUC "
   ]
  },
  {
   "cell_type": "markdown",
   "id": "a24deae5",
   "metadata": {},
   "source": [
    "### Let's see if we can improve model performance by using pre-trained word embeddings (PTWE)"
   ]
  },
  {
   "cell_type": "code",
   "execution_count": 18,
   "id": "6a80efbb",
   "metadata": {},
   "outputs": [],
   "source": [
    "# Download the pre-trained word embeddings - ONLY RUN THIS IF THE EMBEDDINGS FILE IS NOT ALREADY STORED\n",
    "# import urllib.request\n",
    "# import os\n",
    "# url = 'http://nlp.stanford.edu/data/glove.6B.zip'\n",
    "# filename = 'glove.6B.zip'\n",
    "# if not os.path.exists(filename):\n",
    "#     urllib.request.urlretrieve(url, filename)\n",
    "# # Extract the contents of the zip file\n",
    "# import zipfile\n",
    "# with zipfile.ZipFile(filename, 'r') as zip_ref:\n",
    "#     zip_ref.extractall()"
   ]
  },
  {
   "cell_type": "code",
   "execution_count": 41,
   "id": "ce90338d",
   "metadata": {},
   "outputs": [
    {
     "name": "stdout",
     "output_type": "stream",
     "text": [
      "Vocabulary size: 400000\n",
      "Dimensionality of word vectors: 100\n"
     ]
    }
   ],
   "source": [
    "# Load the pre-trained word embeddings\n",
    "from gensim.models import KeyedVectors\n",
    "\n",
    "model_path = 'glove.6B.100d.txt'\n",
    "word_vectors = KeyedVectors.load_word2vec_format(model_path, no_header=True, binary=False)\n",
    "\n",
    "# print the size of the vocabulary and the dimensionality of the word vectors\n",
    "print('Vocabulary size:', len(word_vectors.key_to_index))\n",
    "print('Dimensionality of word vectors:', word_vectors.vector_size)"
   ]
  },
  {
   "cell_type": "code",
   "execution_count": 42,
   "id": "17187642",
   "metadata": {},
   "outputs": [
    {
     "name": "stderr",
     "output_type": "stream",
     "text": [
      "/Users/richardgoldman/opt/anaconda3/envs/deep_learning_env/lib/python3.10/site-packages/sklearn/feature_extraction/text.py:528: UserWarning: The parameter 'token_pattern' will not be used since 'tokenizer' is not None'\n",
      "  warnings.warn(\n"
     ]
    }
   ],
   "source": [
    "import numpy as np\n",
    "from gensim.models import KeyedVectors\n",
    "from sklearn.feature_extraction.text import TfidfVectorizer\n",
    "from sklearn.feature_selection import SelectKBest\n",
    "from sklearn.feature_selection import f_classif\n",
    "# get train test of data from pre-trained embeddings\n",
    "# Define tokenizer function that converts text to list of word vectors\n",
    "def tokenize(text):\n",
    "    tokens = []\n",
    "    for word in text.split():\n",
    "        try:\n",
    "            vector = word_vectors[word]\n",
    "            tokens.append(tuple(vector))  # Convert numpy array to a hashable that can be used in fit_transform\n",
    "        except KeyError:\n",
    "            pass\n",
    "    return tokens\n",
    "\n",
    "# Define vectorizer that uses the tokenizer function\n",
    "vectorizer = TfidfVectorizer(tokenizer=tokenize, preprocessor=None, lowercase=False)\n",
    "\n",
    "# Vectorize the data\n",
    "vect_data = vectorizer.fit_transform(data['review'])\n",
    "\n",
    "# Select best k features, with feature importance measured by f_classif\n",
    "TOP_K = 20000\n",
    "selector = SelectKBest(f_classif, k=min(TOP_K, vect_data.shape[1]))\n",
    "selector.fit(vect_data, data['sentiment'])\n",
    "vect_data = selector.transform(vect_data).astype('float32')\n",
    "\n",
    "# Split data to target (y) and features (X)\n",
    "X = vect_data.toarray()\n",
    "y = np.array(data['sentiment'])\n",
    "\n",
    "# Split data into train and test sets\n",
    "from sklearn.model_selection import train_test_split\n",
    "X_train, X_test, y_train, y_test = train_test_split(X, y, test_size=0.2, random_state=13)"
   ]
  },
  {
   "cell_type": "code",
   "execution_count": 43,
   "id": "de53087f",
   "metadata": {},
   "outputs": [
    {
     "name": "stdout",
     "output_type": "stream",
     "text": [
      "Training Accuracy: 0.8965\n",
      "Testing Accuracy: 0.8744\n"
     ]
    },
    {
     "data": {
      "image/png": "[encoded data removed]",
      "text/plain": [
       "<Figure size 288x288 with 1 Axes>"
      ]
     },
     "metadata": {
      "needs_background": "light"
     },
     "output_type": "display_data"
    },
    {
     "name": "stdout",
     "output_type": "stream",
     "text": [
      "f1-score 0.8744042202923483\n",
      "Precision: 0.868452618952419\n",
      "Recall: 0.8789963577498988\n"
     ]
    }
   ],
   "source": [
    "from sklearn.linear_model import LogisticRegression\n",
    "from sklearn.metrics import classification_report, confusion_matrix\n",
    "import matplotlib.pyplot as plt\n",
    "import seaborn as sns\n",
    "\n",
    "# Create logistic regression model and fit it to the training data\n",
    "try:\n",
    "    logreg = load_model('logreg_ptwe.pkl')\n",
    "except FileNotFoundError:\n",
    "    print(\"Saved model not found, re-training model\")\n",
    "    logreg = LogisticRegression()\n",
    "    logreg.fit(X_train, y_train)\n",
    "\n",
    "# Evaluate the model on the training data\n",
    "train_score = logreg.score(X_train, y_train)\n",
    "print(f\"Training Accuracy: {train_score}\")\n",
    "\n",
    "# Evaluate the model on the testing data\n",
    "test_score = logreg.score(X_test, y_test)\n",
    "print(f\"Testing Accuracy: {test_score}\")\n",
    "\n",
    "# Predict on test data and get f1-score\n",
    "y_pred = logreg.predict(X_test)\n",
    "classification_report_dict = classification_report(y_test, y_pred, output_dict=True)\n",
    "f1_score = classification_report_dict['weighted avg']['f1-score']\n",
    "\n",
    "# Get confusion matrix\n",
    "cm = confusion_matrix(y_test, y_pred)\n",
    "\n",
    "# Plot confusion matrix\n",
    "plt.figure(figsize=(4, 4))\n",
    "sns.heatmap(cm, annot=True, fmt='d', cmap='Blues', cbar=False)\n",
    "plt.title('Confusion Matrix')\n",
    "plt.xlabel('Predicted')\n",
    "plt.ylabel('Actual')\n",
    "plt.show()\n",
    "\n",
    "# Get precision and recall\n",
    "precision = cm[1, 1] / (cm[0, 1] + cm[1, 1])\n",
    "recall = cm[1, 1] / (cm[1, 0] + cm[1, 1])\n",
    "\n",
    "# Print precision and recall\n",
    "print('f1-score', f1_score)\n",
    "print('Precision:', precision)\n",
    "print('Recall:', recall)\n",
    "# print(classification_report_dict) # for reference\n",
    "\n",
    "# save model\n",
    "save_model('logreg_ptwe.pkl', logreg)"
   ]
  },
  {
   "cell_type": "markdown",
   "id": "aee4e6ac",
   "metadata": {},
   "source": [
    "<b> Analysis of Logistic Regression with pre-trained embeddings </b>\n",
    "Comparing the original logistic regression model to this model, we can see that this model actually performed worse across the board: <br>\n",
    "- Worse Validation Accuracy (84% vs. 90%)\n",
    "- Worse F1-Score (Recall 86% vs. 91% and Precision 83% vs. 89%)\n",
    "    \n",
    "This is an interesting and unexpected result. Based on the validation vs. train performance metrics, the model does not seem to be overfitting significantly to the training set, so more investigation would be needed to figure out why this is not offering any improvement to the original model"
   ]
  },
  {
   "cell_type": "code",
   "execution_count": 44,
   "id": "86f301cf",
   "metadata": {},
   "outputs": [
    {
     "name": "stdout",
     "output_type": "stream",
     "text": [
      "Training Accuracy: 0.916375\n",
      "Testing Accuracy: 0.8396\n",
      "Precision: 0.8250876509544215\n",
      "Recall: 0.8571428571428571\n"
     ]
    }
   ],
   "source": [
    "## XGBoost\n",
    "import pandas as pd\n",
    "import numpy as np\n",
    "import xgboost as xgb\n",
    "from sklearn.metrics import accuracy_score, precision_score, recall_score\n",
    "\n",
    "try:\n",
    "    xgb_model_w_ptwe = load_model('xgboost_ptwe.pkl')\n",
    "except FileNotFoundError:\n",
    "    print(\"Saved model not found, re-training model\")\n",
    "    xgb_model_w_ptwe = xgb.XGBClassifier(n_jobs=14)\n",
    "    xgb_model_w_ptwe.fit(X_train, y_train)\n",
    "    \n",
    "# Predict labels for test data\n",
    "y_pred = xgb_model_w_ptwe.predict(X_test)\n",
    "\n",
    "# Evaluate model performance on test data\n",
    "accuracy = accuracy_score(y_test, y_pred)\n",
    "precision = precision_score(y_test, y_pred)\n",
    "recall = recall_score(y_test, y_pred)\n",
    "\n",
    "# Predict labels for training data\n",
    "y_train_pred = xgb_model_w_ptwe.predict(X_train)\n",
    "\n",
    "# Evaluate model performance on training data\n",
    "accuracy_train = accuracy_score(y_train, y_train_pred)\n",
    "\n",
    "# Print evaluation metrics\n",
    "print('Training Accuracy:', accuracy_train)\n",
    "print('Testing Accuracy:', accuracy)\n",
    "print('Precision:', precision)\n",
    "print('Recall:', recall)\n",
    "\n",
    "# save model\n",
    "# save_model('xgboost_ptwe.pkl', xgb_model_w_ptwe)"
   ]
  },
  {
   "cell_type": "code",
   "execution_count": 45,
   "id": "671b5a25",
   "metadata": {},
   "outputs": [
    {
     "name": "stdout",
     "output_type": "stream",
     "text": [
      "1250/1250 [==============================] - 3s 2ms/step - loss: 2.0425 - acc: 0.4593\n",
      "Train loss: 2.0424845218658447\n",
      "Train accuracy: 0.4593000113964081\n",
      "313/313 [==============================] - 1s 2ms/step - loss: 2.0454 - acc: 0.4561\n",
      "Test loss: 2.045423984527588\n",
      "Test accuracy: 0.4560999870300293\n"
     ]
    }
   ],
   "source": [
    "# lastly, try using the neural net with pre-trained embeddings\n",
    "import tensorflow as tf\n",
    "from tensorflow import keras\n",
    "from tensorflow.python.keras import models\n",
    "from tensorflow.python.keras.layers import Dense\n",
    "from tensorflow.python.keras.layers import Dropout\n",
    "from tensorflow import keras\n",
    "from tensorflow.keras.layers import Dense, Dropout\n",
    "from sklearn.metrics import accuracy_score, precision_score, recall_score, f1_score, roc_auc_score\n",
    "\n",
    "\n",
    "try:\n",
    "    nnet_ptwe = load_model('neural_net_ptwe.pkl')\n",
    "except FileNotFoundError:\n",
    "    print(\"Saved model not found, re-training model\")\n",
    "    DROPOUT_RATE = 0.2\n",
    "    UNITS = 64\n",
    "    NUM_CLASSES = 2\n",
    "    LAYERS = 2\n",
    "    input_shape = X_train.shape[1:]\n",
    "\n",
    "    op_units, op_activation = 1, 'sigmoid'\n",
    "\n",
    "    nnet_ptwe = keras.Sequential()\n",
    "    # Applies Dropout to the input\n",
    "    nnet_ptwe.add(Dropout(rate=DROPOUT_RATE, input_shape=input_shape))\n",
    "    for _ in range(LAYERS-1):\n",
    "        nnet_ptwe.add(Dense(units=UNITS, activation='relu'))\n",
    "        nnet_ptwe.add(Dropout(rate=DROPOUT_RATE))\n",
    "\n",
    "    nnet_ptwe.add(Dense(units=op_units, activation=op_activation))\n",
    "\n",
    "    # compile the model\n",
    "    LEARNING_RATE = 1e-3\n",
    "    optimizer = tf.keras.optimizers.Adam(lr=LEARNING_RATE)\n",
    "    nnet_ptwe.compile(optimizer=optimizer, loss='binary_crossentropy', metrics=['acc'])\n",
    "\n",
    "    EPOCHS = 100\n",
    "    BATCH_SIZE = 128\n",
    "\n",
    "    # Create callback for early stopping on validation loss. If the loss does\n",
    "    # not decrease on two consecutive tries, stop training\n",
    "    callbacks = [tf.keras.callbacks.EarlyStopping(monitor='val_loss', patience=2)]\n",
    "    history = nnet_ptwe.fit(X_train, y_train, epochs=EPOCHS, validation_data=(X_test, y_test), verbose=1, batch_size=BATCH_SIZE, callbacks=callbacks)\n",
    "\n",
    "    # predict on test data\n",
    "    y_pred = nnet_ptwe.predict(X_test)\n",
    "    \n",
    "# compare how the model performs on the test dataset:\n",
    "train_loss, train_acc = nnet_ptwe.evaluate(X_train, y_train, verbose=1)\n",
    "print('Train loss:', train_loss)\n",
    "print('Train accuracy:', train_acc)\n",
    "test_loss, test_acc = nnet_ptwe.evaluate(X_test, y_test, verbose=1)\n",
    "print('Test loss:', test_loss)\n",
    "print('Test accuracy:', test_acc)\n",
    "\n",
    "# save model\n",
    "# save_model('neural_net_ptwe.pkl', nnet_ptwe)"
   ]
  },
  {
   "cell_type": "markdown",
   "id": "618a496f",
   "metadata": {},
   "source": [
    "### Discussion of Results"
   ]
  },
  {
   "cell_type": "markdown",
   "id": "2babb1dd",
   "metadata": {},
   "source": [
    "<b>Reviewing the datset:</b>\n",
    "The IMDB dataset has 50k samples and is balaned evenly between positive and negative samples so dataset imbalances was not a concern in this project. This balance was reflected in the general equality between precision and recall indicated in the confusion matrices. \n",
    "\n",
    "<b>Comparison of performance metrics for each model:<b>\n",
    "- Comparison of initial model Train Accuracy and Test Accuracy to models trained using pre-trained word embeddings(PTWE)\n",
    "    - Logistic Regression: \n",
    "        - Original: train (0.91) test (0.90)\n",
    "        - PTWE: train (0.90) test (0.87)\n",
    "    - Gradient Boosted Trees via XGBoost:\n",
    "        - Original: train (0.94) test (0.87)\n",
    "        - PTWE: train (0.92) test (0.84)\n",
    "    - Sequential Neural Net: \n",
    "        - Original: train (0.98) test (0.93)\n",
    "        - PTWE: train (0.96) test (0.90)\n",
    "\n",
    "<b>Discussion of Logistic Regression and Potential Improvements:</b>\n",
    "The Original Logistic Regression performed better than the PTWE model, which seemed to be slightly overfitting on the training data. A better understanding of using PTWE would be necessary to figure out how to get the Logistic Regression model to work better than the initial if this is even possible.\n",
    "\n",
    "<b>Discussion of Gradient Boosted Trees via XGBoost and Potential Improvements:</b>\n",
    "Gradient Boosted Trees seemed to be a poor model out-of-the-box for this problem. In both cases, the XGBoost model overfit rather severly to the training data as evidenced by the disparity >5% between train and test datasets. Potential improvements to explore for this model would be to experiment with the regularization parameters to reduce overfitting. In addition, since XGBoost is highly sensitive to hyperparameters, it would be important to experiment with a range of different hyperparameters to make sure that the model can perform at its best. This is especially important for xgboost in comparison with logistc regression which has fewer hyperparameters to tune and is less complex in general.\n",
    "    \n",
    "<b>Discussion of Simple Sequential Neural Net and Potential Improvements:</b>\n",
    "Neural net performaed significantly better than both logistic regression and gradient boosted trees with 93% accuracy for the simple version with no optimizations. This is definitely the most promising model in terms of performance, and training time was only about ~1 minute. In both the original and PTWE, overfitting was an issue, and more dropout would likely be the first thing to try. It might also be good to add some regularization. If accuracy is the desired goal, and explainability/complexity is less of a concern, than the neural net is a clear winner for this task.\n",
    "    \n",
    "    \n",
    "<b>Failure of using PTWE to improve model performance:</b>\n",
    "This was a rather surprising failure since pre-trained word embeddings are supposed to allow models to better generalize since they have access to \"out-of-vocabulary\" words. More investigation would be necessary to understand why pre-trained embeddings are not adding to model performance on the IMDB datset.   \n",
    "\n",
    "<b>Conclusion:</b> <br>\n",
    "- Best model in terms of time to train, performance, and explainability:\n",
    "    - Logistic Regression would be my recomendation for solving this binary classification problem if the given level of accuracy (~90%) is acceptable. The Logistic Regression model is explainable since we can clearly identify how the inputs, coefficients, and model are affecting the output. There are many tools for assesing this, and it's much simpler to determine how the model is working than with the neural net or the gradient-boosted tree model.\n",
    "    - If 90% is not acceptable and extremely high levels of accuracy (>99%) are required, then I would recommend pursuing the neural network since there are more avenues for potential improvement and the degree of sophistication and complexity can be scaled up more easily than with Logistic Regression which is a very simple model.\n",
    "   "
   ]
  },
  {
   "cell_type": "code",
   "execution_count": null,
   "id": "78bad709",
   "metadata": {},
   "outputs": [],
   "source": []
  }
 ],
 "metadata": {
  "kernelspec": {
   "display_name": "deep_learning_env",
   "language": "python",
   "name": "deep_learning_env"
  },
  "language_info": {
   "codemirror_mode": {
    "name": "ipython",
    "version": 3
   },
   "file_extension": ".py",
   "mimetype": "text/x-python",
   "name": "python",
   "nbconvert_exporter": "python",
   "pygments_lexer": "ipython3",
   "version": "3.10.4"
  }
 },
 "nbformat": 4,
 "nbformat_minor": 5
}
